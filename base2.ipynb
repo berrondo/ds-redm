{
 "cells": [
  {
   "cell_type": "code",
   "execution_count": null,
   "metadata": {},
   "outputs": [],
   "source": [
    "from notebook_importer import *\n",
    "from base import df\n",
    "\n",
    "import pandas as pd"
   ]
  },
  {
   "cell_type": "code",
   "execution_count": null,
   "metadata": {},
   "outputs": [],
   "source": [
    "df['acum_tempo'] = df.em - df.criacao\n",
    "df['acum_dias'] = df.acum_tempo.dt.days\n",
    "df.loc[df.acum_dias==0, ['acum_dias']] = 1"
   ]
  },
  {
   "cell_type": "code",
   "execution_count": null,
   "metadata": {},
   "outputs": [],
   "source": [
    "df.sort_values(by=['demanda', 'em'], inplace=True)"
   ]
  },
  {
   "cell_type": "code",
   "execution_count": null,
   "metadata": {},
   "outputs": [],
   "source": [
    "# todas as datas baseadas na data de criação da demanda:\n",
    "\n",
    "df['ano'] = df['criacao'].dt.year\n",
    "#df['semana'] = df['criacao'].dt.week\n",
    "df['ano_semana'] = df['criacao'].dt.strftime('%Y-%V')\n",
    "df['ano_mes'] = df['criacao'].dt.strftime('%Y-%m')\n",
    "#df['trimestre'] = df['criacao'].to_period(\"Q\")\n",
    "df['ano_tri'] = df['criacao'].dt.quarter\n",
    "df['ano_tri'] = df['ano'].map(str) + '-' + df['ano_tri'].map(str)"
   ]
  },
  {
   "cell_type": "code",
   "execution_count": null,
   "metadata": {},
   "outputs": [],
   "source": [
    "df.info()"
   ]
  },
  {
   "cell_type": "code",
   "execution_count": null,
   "metadata": {},
   "outputs": [],
   "source": [
    "df.head()"
   ]
  }
 ],
 "metadata": {
  "kernelspec": {
   "display_name": "Python 3",
   "language": "python",
   "name": "python3"
  },
  "language_info": {
   "codemirror_mode": {
    "name": "ipython",
    "version": 3
   },
   "file_extension": ".py",
   "mimetype": "text/x-python",
   "name": "python",
   "nbconvert_exporter": "python",
   "pygments_lexer": "ipython3",
   "version": "3.7.4"
  }
 },
 "nbformat": 4,
 "nbformat_minor": 4
}
