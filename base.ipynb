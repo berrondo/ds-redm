{
 "cells": [
  {
   "cell_type": "code",
   "execution_count": 190,
   "metadata": {},
   "outputs": [],
   "source": [
    "import pandas as pd\n",
    "import matplotlib.pyplot as plt"
   ]
  },
  {
   "cell_type": "code",
   "execution_count": 191,
   "metadata": {},
   "outputs": [],
   "source": [
    "df = pd.read_csv('journals8.csv')"
   ]
  },
  {
   "cell_type": "code",
   "execution_count": 192,
   "metadata": {},
   "outputs": [],
   "source": [
    "df['criacao'] = pd.to_datetime(df['criacao'])\n",
    "df['em'] = pd.to_datetime(df['em'])\n",
    "\n",
    "df['de'].fillna('DESCONHECIDO', inplace=True)\n",
    "df['para'].fillna('SEM_DESTINO', inplace=True)  ## ?\n",
    "\n",
    "df['de'] = df.de.astype('category')\n",
    "df['para'] = df.para.astype('category')"
   ]
  },
  {
   "cell_type": "code",
   "execution_count": 193,
   "metadata": {},
   "outputs": [],
   "source": [
    "# legenda:\n",
    "# I: interna\n",
    "# F: fábrica, A: atelier\n",
    "# a: comum ao atelier e à fábrica\n",
    "# cC: com ônus, antiga e nova\n",
    "# sS: sem ônus, antiga e nova\n",
    "# x: cancelada\n",
    "\n",
    "\n",
    "pt = {\n",
    "    'Novo': 'n', 'Dividir em sprints': 'M',\n",
    "    'Desenvolver internamente': 'I', 'Validar com a Área Demandante': 'I',\n",
    "    'Preparar documentação para fábrica': 'F', 'Pronto para fábrica': 'F', 'Estimar pontos de função':  'F',\n",
    "    'Contar pontos de função': 'F', 'Complementar documentação para contagem': 'F',\n",
    "    'Realizar orçamento': 'A', 'Validar orçamento': 'A',\n",
    "    'Especificar testes': 'A', 'Validar especificação/testes': 'A',\n",
    "    'Realizar implementação': 'a', 'Testar implementação': 'a',\n",
    "    'Homologar com Demandante': 'a', 'Atualizar registro da demanda': 'a',\n",
    "    'Entregar artefatos': 'a', 'Validar artefatos': 'a',\n",
    "    'Demanda sem ônus em pontos de função concluída': 's', 'Demanda concluída sem ônus': 'S',\n",
    "    'Demanda com ônus em pontos de função concluída': 'c', 'Demanda concluída com ônus': 'C',\n",
    "    'Demanda cancelada': 'x',\n",
    "    \n",
    "    'Iniciado': 'p', 'Pendente': 'p', 'Cancelado': 'p',\n",
    "\n",
    "     }\n",
    "\n",
    "df['tipo'] = df.para\n",
    "df.tipo = df.tipo.map(pt)"
   ]
  },
  {
   "cell_type": "code",
   "execution_count": 202,
   "metadata": {},
   "outputs": [
    {
     "ename": "AttributeError",
     "evalue": "'DataFrame' object has no attribute 'so_paras'",
     "output_type": "error",
     "traceback": [
      "\u001b[1;31m---------------------------------------------------------------------------\u001b[0m",
      "\u001b[1;31mAttributeError\u001b[0m                            Traceback (most recent call last)",
      "\u001b[1;32m<ipython-input-202-ce0faf9e1eca>\u001b[0m in \u001b[0;36m<module>\u001b[1;34m\u001b[0m\n\u001b[1;32m----> 1\u001b[1;33m \u001b[0mdf\u001b[0m\u001b[1;33m.\u001b[0m\u001b[0mgroupby\u001b[0m\u001b[1;33m(\u001b[0m\u001b[1;34m'demanda'\u001b[0m\u001b[1;33m)\u001b[0m\u001b[1;33m.\u001b[0m\u001b[0mget_group\u001b[0m\u001b[1;33m(\u001b[0m\u001b[1;36m23111\u001b[0m\u001b[1;33m)\u001b[0m\u001b[1;33m.\u001b[0m\u001b[0mso_paras\u001b[0m \u001b[1;31m#19570 7652 23111???\u001b[0m\u001b[1;33m\u001b[0m\u001b[1;33m\u001b[0m\u001b[0m\n\u001b[0m",
      "\u001b[1;32m~\\Anaconda3\\lib\\site-packages\\pandas\\core\\generic.py\u001b[0m in \u001b[0;36m__getattr__\u001b[1;34m(self, name)\u001b[0m\n\u001b[0;32m   5177\u001b[0m             \u001b[1;32mif\u001b[0m \u001b[0mself\u001b[0m\u001b[1;33m.\u001b[0m\u001b[0m_info_axis\u001b[0m\u001b[1;33m.\u001b[0m\u001b[0m_can_hold_identifiers_and_holds_name\u001b[0m\u001b[1;33m(\u001b[0m\u001b[0mname\u001b[0m\u001b[1;33m)\u001b[0m\u001b[1;33m:\u001b[0m\u001b[1;33m\u001b[0m\u001b[1;33m\u001b[0m\u001b[0m\n\u001b[0;32m   5178\u001b[0m                 \u001b[1;32mreturn\u001b[0m \u001b[0mself\u001b[0m\u001b[1;33m[\u001b[0m\u001b[0mname\u001b[0m\u001b[1;33m]\u001b[0m\u001b[1;33m\u001b[0m\u001b[1;33m\u001b[0m\u001b[0m\n\u001b[1;32m-> 5179\u001b[1;33m             \u001b[1;32mreturn\u001b[0m \u001b[0mobject\u001b[0m\u001b[1;33m.\u001b[0m\u001b[0m__getattribute__\u001b[0m\u001b[1;33m(\u001b[0m\u001b[0mself\u001b[0m\u001b[1;33m,\u001b[0m \u001b[0mname\u001b[0m\u001b[1;33m)\u001b[0m\u001b[1;33m\u001b[0m\u001b[1;33m\u001b[0m\u001b[0m\n\u001b[0m\u001b[0;32m   5180\u001b[0m \u001b[1;33m\u001b[0m\u001b[0m\n\u001b[0;32m   5181\u001b[0m     \u001b[1;32mdef\u001b[0m \u001b[0m__setattr__\u001b[0m\u001b[1;33m(\u001b[0m\u001b[0mself\u001b[0m\u001b[1;33m,\u001b[0m \u001b[0mname\u001b[0m\u001b[1;33m,\u001b[0m \u001b[0mvalue\u001b[0m\u001b[1;33m)\u001b[0m\u001b[1;33m:\u001b[0m\u001b[1;33m\u001b[0m\u001b[1;33m\u001b[0m\u001b[0m\n",
      "\u001b[1;31mAttributeError\u001b[0m: 'DataFrame' object has no attribute 'so_paras'"
     ]
    }
   ],
   "source": [
    "df.groupby('demanda').get_group(23111) #19570 7652 23111???"
   ]
  },
  {
   "cell_type": "code",
   "execution_count": 195,
   "metadata": {},
   "outputs": [
    {
     "data": {
      "text/plain": [
       "<pandas.core.groupby.generic.DataFrameGroupBy object at 0x000001ECAC2B5488>"
      ]
     },
     "execution_count": 195,
     "metadata": {},
     "output_type": "execute_result"
    }
   ],
   "source": [
    "bla = df.groupby('demanda')['para']\n",
    "df.at[df.groupby('demanda'), 'bla'] = bla"
   ]
  },
  {
   "cell_type": "code",
   "execution_count": 196,
   "metadata": {},
   "outputs": [],
   "source": [
    "df['acum_tempo'] = df.em - df.criacao\n",
    "df['acum_dias'] = df.acum_tempo.dt.days\n",
    "df.loc[df.acum_dias==0, ['acum_dias']] = 1"
   ]
  },
  {
   "cell_type": "code",
   "execution_count": 197,
   "metadata": {},
   "outputs": [],
   "source": [
    "#df.set_index(['demanda'])\n",
    "df.sort_values(by=['demanda', 'em'], inplace=True)"
   ]
  },
  {
   "cell_type": "code",
   "execution_count": 198,
   "metadata": {},
   "outputs": [],
   "source": [
    "# todas as datas baseadas na data de criação da demanda:\n",
    "\n",
    "df['ano'] = df['criacao'].dt.year\n",
    "#df['semana'] = df['criacao'].dt.week\n",
    "df['ano_semana'] = df['criacao'].dt.strftime('%Y-%V')\n",
    "df['ano_mes'] = df['criacao'].dt.strftime('%Y-%m')\n",
    "#df['trimestre'] = df['criacao'].to_period(\"Q\")\n",
    "df['ano_tri'] = df['criacao'].dt.quarter\n",
    "df['ano_tri'] = df['ano'].map(str) + '-' + df['ano_tri'].map(str)"
   ]
  },
  {
   "cell_type": "code",
   "execution_count": 199,
   "metadata": {},
   "outputs": [
    {
     "name": "stdout",
     "output_type": "stream",
     "text": [
      "<class 'pandas.core.frame.DataFrame'>\n",
      "Int64Index: 80406 entries, 0 to 80405\n",
      "Data columns (total 12 columns):\n",
      "demanda       80406 non-null int64\n",
      "criacao       80406 non-null datetime64[ns]\n",
      "em            80406 non-null datetime64[ns]\n",
      "de            80406 non-null category\n",
      "para          80406 non-null category\n",
      "tipo          50894 non-null object\n",
      "acum_tempo    80406 non-null timedelta64[ns]\n",
      "acum_dias     80406 non-null int64\n",
      "ano           80406 non-null int64\n",
      "ano_semana    80406 non-null object\n",
      "ano_mes       80406 non-null object\n",
      "ano_tri       80406 non-null object\n",
      "dtypes: category(2), datetime64[ns](2), int64(3), object(4), timedelta64[ns](1)\n",
      "memory usage: 6.9+ MB\n"
     ]
    }
   ],
   "source": [
    "df.info()"
   ]
  },
  {
   "cell_type": "code",
   "execution_count": 200,
   "metadata": {},
   "outputs": [
    {
     "data": {
      "text/html": [
       "<div>\n",
       "<style scoped>\n",
       "    .dataframe tbody tr th:only-of-type {\n",
       "        vertical-align: middle;\n",
       "    }\n",
       "\n",
       "    .dataframe tbody tr th {\n",
       "        vertical-align: top;\n",
       "    }\n",
       "\n",
       "    .dataframe thead th {\n",
       "        text-align: right;\n",
       "    }\n",
       "</style>\n",
       "<table border=\"1\" class=\"dataframe\">\n",
       "  <thead>\n",
       "    <tr style=\"text-align: right;\">\n",
       "      <th></th>\n",
       "      <th>demanda</th>\n",
       "      <th>criacao</th>\n",
       "      <th>em</th>\n",
       "      <th>de</th>\n",
       "      <th>para</th>\n",
       "      <th>tipo</th>\n",
       "      <th>acum_tempo</th>\n",
       "      <th>acum_dias</th>\n",
       "      <th>ano</th>\n",
       "      <th>ano_semana</th>\n",
       "      <th>ano_mes</th>\n",
       "      <th>ano_tri</th>\n",
       "    </tr>\n",
       "  </thead>\n",
       "  <tbody>\n",
       "    <tr>\n",
       "      <td>0</td>\n",
       "      <td>38</td>\n",
       "      <td>2013-03-06 11:47:35</td>\n",
       "      <td>2013-06-04 16:20:21</td>\n",
       "      <td>DESCONHECIDO</td>\n",
       "      <td>Estimar pontos de função</td>\n",
       "      <td>F</td>\n",
       "      <td>90 days 04:32:46</td>\n",
       "      <td>90</td>\n",
       "      <td>2013</td>\n",
       "      <td>2013-10</td>\n",
       "      <td>2013-03</td>\n",
       "      <td>2013-1</td>\n",
       "    </tr>\n",
       "    <tr>\n",
       "      <td>1</td>\n",
       "      <td>38</td>\n",
       "      <td>2013-03-06 11:47:35</td>\n",
       "      <td>2013-06-13 16:54:26</td>\n",
       "      <td>Estimar pontos de função</td>\n",
       "      <td>Elaborar parecer: desenvolver ou adquirir?</td>\n",
       "      <td>NaN</td>\n",
       "      <td>99 days 05:06:51</td>\n",
       "      <td>99</td>\n",
       "      <td>2013</td>\n",
       "      <td>2013-10</td>\n",
       "      <td>2013-03</td>\n",
       "      <td>2013-1</td>\n",
       "    </tr>\n",
       "    <tr>\n",
       "      <td>2</td>\n",
       "      <td>38</td>\n",
       "      <td>2013-03-06 11:47:35</td>\n",
       "      <td>2013-06-14 09:59:39</td>\n",
       "      <td>Elaborar parecer: desenvolver ou adquirir?</td>\n",
       "      <td>Considerar decisão da DISIS: ratificar ou reti...</td>\n",
       "      <td>NaN</td>\n",
       "      <td>99 days 22:12:04</td>\n",
       "      <td>99</td>\n",
       "      <td>2013</td>\n",
       "      <td>2013-10</td>\n",
       "      <td>2013-03</td>\n",
       "      <td>2013-1</td>\n",
       "    </tr>\n",
       "    <tr>\n",
       "      <td>3</td>\n",
       "      <td>38</td>\n",
       "      <td>2013-03-06 11:47:35</td>\n",
       "      <td>2014-07-29 15:51:40</td>\n",
       "      <td>Considerar decisão da DISIS: ratificar ou reti...</td>\n",
       "      <td>Atualizar registro da demanda</td>\n",
       "      <td>a</td>\n",
       "      <td>510 days 04:04:05</td>\n",
       "      <td>510</td>\n",
       "      <td>2013</td>\n",
       "      <td>2013-10</td>\n",
       "      <td>2013-03</td>\n",
       "      <td>2013-1</td>\n",
       "    </tr>\n",
       "    <tr>\n",
       "      <td>4</td>\n",
       "      <td>38</td>\n",
       "      <td>2013-03-06 11:47:35</td>\n",
       "      <td>2014-07-29 15:51:54</td>\n",
       "      <td>Atualizar registro da demanda</td>\n",
       "      <td>Demanda sem ônus em pontos de função concluída</td>\n",
       "      <td>s</td>\n",
       "      <td>510 days 04:04:19</td>\n",
       "      <td>510</td>\n",
       "      <td>2013</td>\n",
       "      <td>2013-10</td>\n",
       "      <td>2013-03</td>\n",
       "      <td>2013-1</td>\n",
       "    </tr>\n",
       "  </tbody>\n",
       "</table>\n",
       "</div>"
      ],
      "text/plain": [
       "   demanda             criacao                  em  \\\n",
       "0       38 2013-03-06 11:47:35 2013-06-04 16:20:21   \n",
       "1       38 2013-03-06 11:47:35 2013-06-13 16:54:26   \n",
       "2       38 2013-03-06 11:47:35 2013-06-14 09:59:39   \n",
       "3       38 2013-03-06 11:47:35 2014-07-29 15:51:40   \n",
       "4       38 2013-03-06 11:47:35 2014-07-29 15:51:54   \n",
       "\n",
       "                                                  de  \\\n",
       "0                                       DESCONHECIDO   \n",
       "1                           Estimar pontos de função   \n",
       "2         Elaborar parecer: desenvolver ou adquirir?   \n",
       "3  Considerar decisão da DISIS: ratificar ou reti...   \n",
       "4                      Atualizar registro da demanda   \n",
       "\n",
       "                                                para tipo        acum_tempo  \\\n",
       "0                           Estimar pontos de função    F  90 days 04:32:46   \n",
       "1         Elaborar parecer: desenvolver ou adquirir?  NaN  99 days 05:06:51   \n",
       "2  Considerar decisão da DISIS: ratificar ou reti...  NaN  99 days 22:12:04   \n",
       "3                      Atualizar registro da demanda    a 510 days 04:04:05   \n",
       "4     Demanda sem ônus em pontos de função concluída    s 510 days 04:04:19   \n",
       "\n",
       "   acum_dias   ano ano_semana  ano_mes ano_tri  \n",
       "0         90  2013    2013-10  2013-03  2013-1  \n",
       "1         99  2013    2013-10  2013-03  2013-1  \n",
       "2         99  2013    2013-10  2013-03  2013-1  \n",
       "3        510  2013    2013-10  2013-03  2013-1  \n",
       "4        510  2013    2013-10  2013-03  2013-1  "
      ]
     },
     "execution_count": 200,
     "metadata": {},
     "output_type": "execute_result"
    }
   ],
   "source": [
    "df.head()"
   ]
  }
 ],
 "metadata": {
  "kernelspec": {
   "display_name": "Python 3",
   "language": "python",
   "name": "python3"
  },
  "language_info": {
   "codemirror_mode": {
    "name": "ipython",
    "version": 3
   },
   "file_extension": ".py",
   "mimetype": "text/x-python",
   "name": "python",
   "nbconvert_exporter": "python",
   "pygments_lexer": "ipython3",
   "version": "3.7.4"
  }
 },
 "nbformat": 4,
 "nbformat_minor": 4
}
