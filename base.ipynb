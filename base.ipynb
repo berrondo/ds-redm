{
 "cells": [
  {
   "cell_type": "code",
   "execution_count": null,
   "metadata": {},
   "outputs": [],
   "source": [
    "import pandas as pd\n",
    "import matplotlib.pyplot as plt\n",
    "\n",
    "from IPython.display import HTML"
   ]
  },
  {
   "cell_type": "code",
   "execution_count": null,
   "metadata": {},
   "outputs": [],
   "source": [
    "df = pd.read_csv('journals8.csv')"
   ]
  },
  {
   "cell_type": "code",
   "execution_count": null,
   "metadata": {},
   "outputs": [],
   "source": [
    "df['criacao'] = pd.to_datetime(df['criacao'])\n",
    "df['em'] = pd.to_datetime(df['em'])\n",
    "\n",
    "df['de'].fillna('DESCONHECIDO', inplace=True)\n",
    "df['para'].fillna('SEM_DESTINO', inplace=True)  ## ?\n",
    "\n",
    "df['de'] = df.de.astype('category')\n",
    "df['para'] = df.para.astype('category')"
   ]
  },
  {
   "cell_type": "code",
   "execution_count": null,
   "metadata": {},
   "outputs": [],
   "source": [
    "# legenda:\n",
    "# I: interna\n",
    "# F: fábrica, A: atelier\n",
    "# a: comum ao atelier e à fábrica\n",
    "# ~: descontinuados\n",
    "# cC: com ônus, antiga e nova\n",
    "# sS: sem ônus, antiga e nova\n",
    "# x: cancelada\n",
    "\n",
    "# D: dba\n",
    "# d: dba e pdti\n",
    "# R: rejeição ou defeito\n",
    "# P: pdti\n",
    "\n",
    "pt = {\n",
    "    'Novo': 'n', 'Dividir em sprints': 'M',\n",
    "    \n",
    "    'Desenvolver internamente': 'I', 'Validar com a Área Demandante': 'I',\n",
    "    \n",
    "    'Preparar documentação para fábrica': 'F', 'Pronto para fábrica': 'F', 'Estimar pontos de função':  'F',\n",
    "    'Contar pontos de função': 'F', 'Complementar documentação para contagem': 'F',\n",
    "    \n",
    "    'Realizar orçamento': 'A', 'Validar orçamento': 'A',\n",
    "    'Especificar testes': 'A', 'Validar especificação/testes': 'A',\n",
    "    \n",
    "    'Realizar implementação': 'a', 'Testar implementação': 'a',\n",
    "    'Homologar com Demandante': 'a', 'Atualizar registro da demanda': 'a',\n",
    "    'Entregar artefatos': 'a', 'Validar artefatos': 'a',\n",
    "    \n",
    "    'Elaborar parecer: desenvolver ou adquirir?': 'O',    'Análise e decisão pela Divisão de Sistemas': 'O',\n",
    "    'Elaborar e consolidar doc técnica, formal e OS': 'O',    'Considerar decisão da DISIS: ratificar ou retificar': 'O',\n",
    "    'Realizar reunião de planejamento': 'O',    'Aprovar ordem de serviço': 'O',\n",
    "    'Priorizar funcionalidades com o cliente': 'O',    'Verificar e empenhar saldo de PFs': 'O',\n",
    "    'Elaborar product backlog': 'O',    'Elaborar procedimento para homologação': 'O',\n",
    "    'Realizar implantação no ambiente de homologação': 'O',    'Disponível para teste': 'O',\n",
    "    'Executar manutenção': 'O',    'Implantar em produção': 'O',\n",
    "    'Detalhar Projeto (Proc. implant. SW adquirido externamente)': 'O',    '[SISCAP] Em Análise': 'O',\n",
    "\n",
    "    'Demanda sem ônus em pontos de função concluída': '-s', 'Demanda concluída sem ônus': '-S',\n",
    "    'Demanda com ônus em pontos de função concluída': '-c', 'Demanda concluída com ônus': '-C',\n",
    "    'Demanda cancelada': '-x',\n",
    "    \n",
    "    'Em andamento': 'D', 'Pendente': 'D', 'Concluído': '-d', 'Reavaliação': 'D', 'Aceito': '-D',\n",
    "    \n",
    "    'Avaliar defeito': 'R', 'Decidir sobre o defeito': 'R', 'Rejeição cancelada': 'R', 'Fechado': '-R',\n",
    "    \n",
    "    'Iniciado': 'P', 'Cancelado': '-P',\n",
    "     }\n",
    "\n",
    "print(len(pt))\n",
    "\n",
    "df['tipo'] = df.para\n",
    "df.tipo = df.tipo.map(pt)\n",
    "df.tipo.fillna('.', inplace=True)"
   ]
  },
  {
   "cell_type": "code",
   "execution_count": null,
   "metadata": {},
   "outputs": [],
   "source": [
    "df.loc[(df.tipo=='-'), :].groupby('para').head()"
   ]
  },
  {
   "cell_type": "code",
   "execution_count": null,
   "metadata": {},
   "outputs": [],
   "source": [
    "df.groupby('demanda').get_group(23111) #19570 7652 23111???"
   ]
  },
  {
   "cell_type": "code",
   "execution_count": null,
   "metadata": {},
   "outputs": [],
   "source": [
    "#bla = df.groupby('demanda')['para']\n",
    "#df.at[df.groupby('demanda'), 'bla'] = bla  ## ValueError: cannot copy sequence with size 5 to array axis with dimension 6"
   ]
  },
  {
   "cell_type": "code",
   "execution_count": null,
   "metadata": {},
   "outputs": [],
   "source": [
    "df.info()"
   ]
  },
  {
   "cell_type": "code",
   "execution_count": null,
   "metadata": {},
   "outputs": [],
   "source": [
    "df.head(30)"
   ]
  }
 ],
 "metadata": {
  "kernelspec": {
   "display_name": "Python 3",
   "language": "python",
   "name": "python3"
  },
  "language_info": {
   "codemirror_mode": {
    "name": "ipython",
    "version": 3
   },
   "file_extension": ".py",
   "mimetype": "text/x-python",
   "name": "python",
   "nbconvert_exporter": "python",
   "pygments_lexer": "ipython3",
   "version": "3.7.4"
  }
 },
 "nbformat": 4,
 "nbformat_minor": 4
}
