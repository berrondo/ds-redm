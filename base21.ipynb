{
 "cells": [
  {
   "cell_type": "code",
   "execution_count": 2,
   "metadata": {},
   "outputs": [],
   "source": [
    "from notebook_importer import *\n",
    "from base2 import df\n",
    "\n",
    "import pandas as pd\n",
    "import matplotlib.pyplot as plt"
   ]
  },
  {
   "cell_type": "code",
   "execution_count": 3,
   "metadata": {},
   "outputs": [],
   "source": [
    "# estabelece o inicio e o fim da permanência da demanda em cada status:\n",
    "\n",
    "df2 = df.copy()\n",
    "em_ant = None\n",
    "index_ant = 0\n",
    "demanda_ant = 38\n",
    "primeira_vez = True\n",
    "\n",
    "for index, row in df.iterrows():\n",
    "    if index == 0:\n",
    "        index_ant = index\n",
    "        demanda_ant = row.demanda\n",
    "        df2.loc[df2.index==index, 'ate'] = row.em\n",
    "        continue\n",
    "        \n",
    "    if row.demanda == demanda_ant:\n",
    "        if primeira_vez:\n",
    "            df2.loc[df2.index==index, 'ate'] = row.em\n",
    "            primeira_vez = False\n",
    "        else:\n",
    "            df2.loc[df2.index==index_ant, 'ate'] = row.em\n",
    "    else:\n",
    "        primeira_vez = True\n",
    "        df2.loc[df2.index==index_ant, 'ate'] = em_ant\n",
    "        df2.loc[df2.index==index, 'ate'] = row.em\n",
    "        \n",
    "    demanda_ant = row.demanda\n",
    "    em_ant = row.em\n",
    "    index_ant = index\n",
    "    \n",
    "    #if row.demanda > 100:\n",
    "        #break"
   ]
  },
  {
   "cell_type": "code",
   "execution_count": 4,
   "metadata": {},
   "outputs": [],
   "source": [
    "df2['tempo'] = df2.ate - df2.em\n",
    "df2['dias'] = df2.tempo.dt.days\n",
    "df2.loc[df2.dias==0, ['dias']] = 1"
   ]
  },
  {
   "cell_type": "code",
   "execution_count": 5,
   "metadata": {},
   "outputs": [],
   "source": [
    "df2.to_csv('journals_super.csv')"
   ]
  },
  {
   "cell_type": "code",
   "execution_count": 6,
   "metadata": {},
   "outputs": [
    {
     "data": {
      "text/plain": [
       "de      50\n",
       "para    51\n",
       "dtype: int64"
      ]
     },
     "execution_count": 6,
     "metadata": {},
     "output_type": "execute_result"
    }
   ],
   "source": [
    "df[['de', 'para']].nunique()"
   ]
  }
 ],
 "metadata": {
  "kernelspec": {
   "display_name": "Python 3",
   "language": "python",
   "name": "python3"
  },
  "language_info": {
   "codemirror_mode": {
    "name": "ipython",
    "version": 3
   },
   "file_extension": ".py",
   "mimetype": "text/x-python",
   "name": "python",
   "nbconvert_exporter": "python",
   "pygments_lexer": "ipython3",
   "version": "3.7.4"
  }
 },
 "nbformat": 4,
 "nbformat_minor": 4
}
