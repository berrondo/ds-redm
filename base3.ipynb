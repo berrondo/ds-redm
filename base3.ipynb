{
 "cells": [
  {
   "cell_type": "code",
   "execution_count": null,
   "metadata": {},
   "outputs": [],
   "source": [
    "from notebook_importer import *\n",
    "from base import df\n",
    "\n",
    "import pandas as pd\n",
    "import numpy as np\n",
    "import matplotlib.pyplot as plt\n",
    "\n",
    "from IPython.display import HTML"
   ]
  },
  {
   "cell_type": "code",
   "execution_count": null,
   "metadata": {},
   "outputs": [],
   "source": [
    "df[['de', 'para']].nunique()"
   ]
  },
  {
   "cell_type": "code",
   "execution_count": 41,
   "metadata": {},
   "outputs": [],
   "source": [
    "# cria um novo dataframe com demandas e suas sequencias de etapas (status)\n",
    "\n",
    "df.tipo.fillna('-', inplace=True)\n",
    "\n",
    "dh = pd.DataFrame(columns=['sequencia', 'so_paras'])\n",
    "for d in df.demanda.unique():\n",
    "    #dp = df.loc[df.demanda==d, ('de', 'para')].values.tolist()\n",
    "    p = ''.join(df.loc[df.demanda==d, ('tipo')].values.tolist())\n",
    "    #dh.at[d, 'sequencia'] = dp\n",
    "    dh.at[d, 'so_paras'] = p\n",
    "    #if d == 200: break"
   ]
  },
  {
   "cell_type": "code",
   "execution_count": 40,
   "metadata": {},
   "outputs": [
    {
     "data": {
      "text/plain": [
       "38          F--as\n",
       "73     F---a-aacs\n",
       "74     F-------as\n",
       "77          -aacs\n",
       "78          -aacs\n",
       "          ...    \n",
       "196            as\n",
       "197      --aaaFac\n",
       "198       --aaFac\n",
       "199      --aaaFac\n",
       "200       --aaFac\n",
       "Name: so_paras, Length: 116, dtype: object"
      ]
     },
     "execution_count": 40,
     "metadata": {},
     "output_type": "execute_result"
    }
   ],
   "source": [
    "dh.so_paras #[0][-1]"
   ]
  },
  {
   "cell_type": "code",
   "execution_count": 42,
   "metadata": {},
   "outputs": [],
   "source": [
    "dh.to_csv('sequencias.csv')"
   ]
  },
  {
   "cell_type": "code",
   "execution_count": null,
   "metadata": {},
   "outputs": [],
   "source": [
    "with open('sequencias.csv', 'r', encoding='utf-8') as R:\n",
    "    tx = R.read()\n",
    "    tx = tx.replace('[', '(').replace(']', ')').replace('(SISCAP)', '[SISCAP]')\n",
    "with open('sequencias.csv', 'w', encoding='utf-8') as W:\n",
    "    W.write('demanda'+tx)"
   ]
  },
  {
   "cell_type": "code",
   "execution_count": null,
   "metadata": {},
   "outputs": [],
   "source": [
    "ds = pd.read_csv('sequencias.csv')"
   ]
  },
  {
   "cell_type": "code",
   "execution_count": null,
   "metadata": {},
   "outputs": [],
   "source": [
    "ds.info()"
   ]
  },
  {
   "cell_type": "code",
   "execution_count": null,
   "metadata": {},
   "outputs": [],
   "source": [
    "np.unique(df[['de', 'para']].values)"
   ]
  },
  {
   "cell_type": "code",
   "execution_count": null,
   "metadata": {},
   "outputs": [],
   "source": [
    "HTML(df.groupby(['de', 'para']).nunique().to_html())"
   ]
  }
 ],
 "metadata": {
  "kernelspec": {
   "display_name": "Python 3",
   "language": "python",
   "name": "python3"
  },
  "language_info": {
   "codemirror_mode": {
    "name": "ipython",
    "version": 3
   },
   "file_extension": ".py",
   "mimetype": "text/x-python",
   "name": "python",
   "nbconvert_exporter": "python",
   "pygments_lexer": "ipython3",
   "version": "3.7.4"
  }
 },
 "nbformat": 4,
 "nbformat_minor": 4
}
