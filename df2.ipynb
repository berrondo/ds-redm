{
 "cells": [
  {
   "cell_type": "code",
   "execution_count": 1,
   "metadata": {},
   "outputs": [],
   "source": [
    "import pandas as pd\n",
    "import matplotlib.pyplot as plt"
   ]
  },
  {
   "cell_type": "code",
   "execution_count": 2,
   "metadata": {},
   "outputs": [],
   "source": [
    "df2 = pd.read_csv('journals_super.csv')"
   ]
  },
  {
   "cell_type": "code",
   "execution_count": 88,
   "metadata": {},
   "outputs": [
    {
     "name": "stdout",
     "output_type": "stream",
     "text": [
      "Populating the interactive namespace from numpy and matplotlib\n"
     ]
    }
   ],
   "source": [
    "no_periodo = df2.ano_mes.between('2014-01', '2019-12')\n",
    "intervalo = ['ano_mes']\n",
    "\n",
    "em_teste = df2.para=='Testar implementação'\n",
    "em_homologacao = df2.para=='Homologar com Demandante'\n",
    "na_fabrica = ((df2.para=='Realizar implementação') | (df2.para=='Especificar testes') \n",
    "              | (df2.para=='Realizar orçamento') | (df2.para=='Entregar artefatos'))\n",
    "\n",
    "fab   = df2[no_periodo & na_fabrica].groupby(intervalo).dias\n",
    "teste = df2[no_periodo & em_teste].groupby(intervalo).dias\n",
    "homol = df2[no_periodo & em_homologacao].groupby(intervalo).dias\n",
    "\n",
    "%pylab qt\n",
    "\n",
    "plt.plot(fab.mean(), 'r', label='fabrica')\n",
    "#plt.plot(fab.std(), 'r-.', label='fabrica')\n",
    "plt.plot(teste.mean(), 'y', label='teste')\n",
    "#plt.plot(teste.std(), 'y-.', label='teste')\n",
    "plt.plot(homol.mean(), 'g', label='homologacao')\n",
    "#plt.plot(homol.std(), 'g-.', label='homologacao')\n",
    "\n",
    "plt.show()"
   ]
  },
  {
   "cell_type": "code",
   "execution_count": 82,
   "metadata": {},
   "outputs": [
    {
     "data": {
      "text/plain": [
       "108.85205850763495"
      ]
     },
     "execution_count": 82,
     "metadata": {},
     "output_type": "execute_result"
    }
   ],
   "source": [
    "s = df2.dias.unique().std()\n",
    "s"
   ]
  },
  {
   "cell_type": "code",
   "execution_count": 89,
   "metadata": {},
   "outputs": [
    {
     "data": {
      "text/plain": [
       "[<matplotlib.lines.Line2D at 0x1a09c77b608>]"
      ]
     },
     "execution_count": 89,
     "metadata": {},
     "output_type": "execute_result"
    }
   ],
   "source": [
    "no_periodo = df2.ano_mes.between('2014-01', '2019-12')\n",
    "intervalo = ['ano_mes']\n",
    "\n",
    "com_onus = (df2.para.str.contains('com ônus'))\n",
    "sem_onus = (df2.para.str.contains('sem ônus'))\n",
    "\n",
    "mco = df2[no_periodo & com_onus].groupby(intervalo).acum_dias.mean()\n",
    "mso = df2[no_periodo & sem_onus].groupby(intervalo).acum_dias.mean()\n",
    "\n",
    "plt.plot(mco)\n",
    "plt.plot(mso)\n",
    "plt.show()"
   ]
  },
  {
   "cell_type": "code",
   "execution_count": 90,
   "metadata": {},
   "outputs": [],
   "source": [
    "no_periodo = df2.ano_mes.between('2014-01', '2019-12')\n",
    "intervalo = ['ano_mes']\n",
    "\n",
    "com_onus = (df2.para.str.contains('com ônus'))\n",
    "sem_onus = (df2.para.str.contains('sem ônus'))\n",
    "\n",
    "tpco = df2[no_periodo & com_onus].groupby(intervalo).count()\n",
    "tpso = df2[no_periodo & sem_onus].groupby(intervalo).count()\n",
    "\n",
    "plt.plot(tpco)\n",
    "plt.plot(tpso)\n",
    "plt.show()"
   ]
  },
  {
   "cell_type": "code",
   "execution_count": null,
   "metadata": {},
   "outputs": [],
   "source": []
  },
  {
   "cell_type": "code",
   "execution_count": 78,
   "metadata": {},
   "outputs": [
    {
     "name": "stdout",
     "output_type": "stream",
     "text": [
      "Populating the interactive namespace from numpy and matplotlib\n"
     ]
    }
   ],
   "source": [
    "x = df2.loc[(df2.tipo!='mae')].groupby(['demanda']).acum_dias\n",
    "\n",
    "%pylab qt\n",
    "#%pylab inline\n",
    "\n",
    "plt.subplot(2, 2, 1)\n",
    "plt.plot(x.max(), 'b.', markersize=1)\n",
    "\n",
    "plt.subplot(2, 2, 2)\n",
    "plt.plot(x.median(), 'r.', markersize=1)\n",
    "\n",
    "plt.subplot(2, 2, 3)\n",
    "plt.plot(x.mean(), 'g.', markersize=1)\n",
    "\n",
    "plt.subplot(2, 2, 4)\n",
    "plt.plot(x.std(), 'y.', markersize=1)\n",
    "plt.show()"
   ]
  }
 ],
 "metadata": {
  "kernelspec": {
   "display_name": "Python 3",
   "language": "python",
   "name": "python3"
  },
  "language_info": {
   "codemirror_mode": {
    "name": "ipython",
    "version": 3
   },
   "file_extension": ".py",
   "mimetype": "text/x-python",
   "name": "python",
   "nbconvert_exporter": "python",
   "pygments_lexer": "ipython3",
   "version": "3.7.4"
  }
 },
 "nbformat": 4,
 "nbformat_minor": 4
}
