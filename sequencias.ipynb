{
 "cells": [
  {
   "cell_type": "code",
   "execution_count": null,
   "metadata": {},
   "outputs": [],
   "source": [
    "import pandas as pd\n",
    "\n",
    "from IPython.display import HTML"
   ]
  },
  {
   "cell_type": "code",
   "execution_count": null,
   "metadata": {},
   "outputs": [],
   "source": [
    "dh = pd.read_csv('sequencias.csv')"
   ]
  },
  {
   "cell_type": "code",
   "execution_count": null,
   "metadata": {},
   "outputs": [],
   "source": [
    "dh"
   ]
  },
  {
   "cell_type": "code",
   "execution_count": null,
   "metadata": {},
   "outputs": [],
   "source": [
    "sequencia = 'so_paras'  # 'sequencia'\n",
    "\n",
    "dh.loc[dh.demanda==38, sequencia].values[0]"
   ]
  },
  {
   "cell_type": "code",
   "execution_count": null,
   "metadata": {},
   "outputs": [],
   "source": [
    "dh.nunique()"
   ]
  },
  {
   "cell_type": "code",
   "execution_count": null,
   "metadata": {},
   "outputs": [],
   "source": [
    "dt = dh.groupby([sequencia]).nunique().sort_values(by=['demanda'], ascending=False)\n",
    "\n",
    "dt.to_csv('fluxos.csv')"
   ]
  },
  {
   "cell_type": "code",
   "execution_count": null,
   "metadata": {},
   "outputs": [],
   "source": [
    "dt1 = pd.read_csv('fluxos.csv')\n",
    "dt1[sequencia].map(str)"
   ]
  },
  {
   "cell_type": "code",
   "execution_count": null,
   "metadata": {},
   "outputs": [],
   "source": [
    "# quanto ao ônus\n",
    "\n",
    "dt2 = dt1.copy()\n",
    "\n",
    "com_onus = dt2[sequencia].str.endswith((\"Demanda com ônus em pontos de função concluída')\",\n",
    "                                         \"Demanda concluída com ônus')\"))\n",
    "sem_onus = dt2[sequencia].str.endswith((\"Demanda sem ônus em pontos de função concluída')\", \n",
    "                                         \"Demanda concluída sem ônus')\"))\n",
    "\n",
    "dt2.loc[com_onus, 'onus'] = 'com'\n",
    "dt2.loc[sem_onus, 'onus'] = 'sem'\n",
    "\n",
    "# quanto a finalizacao em geral\n",
    "\n",
    "eh_cancelada = dt2[sequencia].str.endswith(\"Demanda cancelada')\")\n",
    "eh_dba = dt2[sequencia].str.endswith(( \"Concluído')\", \"Aceito')\", \"Cancelado')\" ))\n",
    "eh_defeito_ou_pdti = dt2[sequencia].str.endswith(( \"Fechado')\", \"'Iniciado')\", \"Cancelado')\", \"Rejeição cancelada')\" ))\n",
    "\n",
    "dt2.loc[eh_cancelada, 'onus'] = 'cancelada'\n",
    "dt2.loc[eh_dba, 'onus'] = 'dba'\n",
    "dt2.loc[eh_defeito_ou_pdti, 'onus'] = 'defeito_ou_pdti'"
   ]
  },
  {
   "cell_type": "code",
   "execution_count": null,
   "metadata": {},
   "outputs": [],
   "source": [
    "eh_fabrica = dt2[sequencia].str.contains(\"fábrica\") | dt2[sequencia].str.contains(\"artefato\") | dt2[sequencia].str.contains(\"Contar\") & (~dt2[sequencia].str.contains(\"iternamente\"))\n",
    "#(\n",
    "#    dt2[sequencia].str.contains(\"Realizar implementação\") \n",
    "#    | dt2[sequencia].str.contains(\"Executar manutenção\") \n",
    "#    | dt2[sequencia].str.contains(\"Contar pontos de função\")\n",
    "#    & (~dt2[sequencia].str.contains(\"Desenvolver internamente\"))\n",
    "#)\n",
    "eh_interna = dt2[sequencia].str.contains(\"internamente\") & (~dt2[sequencia].str.contains(\"fábrica\") & ~dt2[sequencia].str.contains(\"artefato\")) & ~dt2[sequencia].str.contains(\"Contar\")\n",
    "#(\n",
    "#    dt2[sequencia].str.contains(\"Desenvolver internamente\") \n",
    "#    & ~dt2[sequencia].str.contains(\"Realizar implementação\") \n",
    "#    & ~dt2[sequencia].str.contains(\"Executar manutenção\")\n",
    "#)\n",
    "\n",
    "#dt2['tipo'] = 'aberta'  ## default \n",
    "\n",
    "dt2.loc[eh_fabrica, 'tipo'] = 'fabrica'\n",
    "dt2.loc[eh_interna, 'tipo'] = 'interna'"
   ]
  },
  {
   "cell_type": "code",
   "execution_count": null,
   "metadata": {},
   "outputs": [],
   "source": [
    "dt3 = dt2.loc[dt2.tipo.isna()]\n",
    "dt3\n",
    "#HTML(dt3.to_html())"
   ]
  },
  {
   "cell_type": "code",
   "execution_count": null,
   "metadata": {},
   "outputs": [],
   "source": [
    "dt2.to_csv('fluxos_classificados.csv')"
   ]
  },
  {
   "cell_type": "code",
   "execution_count": null,
   "metadata": {},
   "outputs": [],
   "source": [
    "dt2.loc[(dt2.onus=='com') & (dt2.tipo=='fabrica')].count()"
   ]
  },
  {
   "cell_type": "code",
   "execution_count": null,
   "metadata": {},
   "outputs": [],
   "source": [
    "HTML(dt2.to_html())"
   ]
  }
 ],
 "metadata": {
  "kernelspec": {
   "display_name": "Python 3",
   "language": "python",
   "name": "python3"
  },
  "language_info": {
   "codemirror_mode": {
    "name": "ipython",
    "version": 3
   },
   "file_extension": ".py",
   "mimetype": "text/x-python",
   "name": "python",
   "nbconvert_exporter": "python",
   "pygments_lexer": "ipython3",
   "version": "3.7.4"
  }
 },
 "nbformat": 4,
 "nbformat_minor": 4
}
