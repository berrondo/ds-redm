{
 "cells": [
  {
   "cell_type": "code",
   "execution_count": 1,
   "metadata": {},
   "outputs": [
    {
     "name": "stdout",
     "output_type": "stream",
     "text": [
      "importing notebook from base.ipynb\n",
      "<class 'pandas.core.frame.DataFrame'>\n",
      "Int64Index: 80406 entries, 0 to 80405\n",
      "Data columns (total 11 columns):\n",
      "demanda       80406 non-null int64\n",
      "criacao       80406 non-null datetime64[ns]\n",
      "em            80406 non-null datetime64[ns]\n",
      "de            80406 non-null category\n",
      "para          80406 non-null category\n",
      "acum_tempo    80406 non-null timedelta64[ns]\n",
      "acum_dias     80406 non-null int64\n",
      "ano           80406 non-null int64\n",
      "ano_semana    80406 non-null object\n",
      "ano_mes       80406 non-null object\n",
      "ano_tri       80406 non-null object\n",
      "dtypes: category(2), datetime64[ns](2), int64(3), object(3), timedelta64[ns](1)\n",
      "memory usage: 6.3+ MB\n"
     ]
    }
   ],
   "source": [
    "from notebook_importer import *\n",
    "from base import df\n",
    "\n",
    "import matplotlib.pyplot as plt"
   ]
  },
  {
   "cell_type": "code",
   "execution_count": 4,
   "metadata": {},
   "outputs": [
    {
     "name": "stdout",
     "output_type": "stream",
     "text": [
      "Populating the interactive namespace from numpy and matplotlib\n"
     ]
    },
    {
     "data": {
      "image/png": "[encoded data removed]",
      "text/plain": [
       "<Figure size 432x288 with 1 Axes>"
      ]
     },
     "metadata": {
      "needs_background": "light"
     },
     "output_type": "display_data"
    }
   ],
   "source": [
    "ho = df.loc[:, ['para']].groupby(df.demanda).nunique()\n",
    "\n",
    "#%pylab qt\n",
    "%pylab inline\n",
    "\n",
    "plt.plot(ho, 'ro', markersize=3)\n",
    "plt.show()"
   ]
  }
 ],
 "metadata": {
  "kernelspec": {
   "display_name": "Python 3",
   "language": "python",
   "name": "python3"
  },
  "language_info": {
   "codemirror_mode": {
    "name": "ipython",
    "version": 3
   },
   "file_extension": ".py",
   "mimetype": "text/x-python",
   "name": "python",
   "nbconvert_exporter": "python",
   "pygments_lexer": "ipython3",
   "version": "3.7.4"
  }
 },
 "nbformat": 4,
 "nbformat_minor": 4
}
